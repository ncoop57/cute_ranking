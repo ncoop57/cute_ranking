{
 "cells": [
  {
   "cell_type": "code",
   "execution_count": null,
   "metadata": {},
   "outputs": [],
   "source": [
    "#hide\n",
    "from cute_ranking.core import *"
   ]
  },
  {
   "cell_type": "markdown",
   "metadata": {},
   "source": [
    "# Cute Ranking\n",
    "\n",
    "> A cute little python module for calculating different ranking metrics. Based entirely on the gist from https://gist.github.com/bwhite/3726239."
   ]
  },
  {
   "cell_type": "markdown",
   "metadata": {},
   "source": [
    "## Install"
   ]
  },
  {
   "cell_type": "markdown",
   "metadata": {},
   "source": [
    "Requires a minimum python installation of 3.6\n",
    "\n",
    "`pip install cute_ranking`"
   ]
  },
  {
   "cell_type": "markdown",
   "metadata": {},
   "source": [
    "## How to use"
   ]
  },
  {
   "cell_type": "code",
   "execution_count": null,
   "metadata": {},
   "outputs": [
    {
     "data": {
      "text/plain": "0.611111111111111"
     },
     "execution_count": null,
     "metadata": {},
     "output_type": "execute_result"
    }
   ],
   "source": [
    "from cute_ranking.core import mean_reciprocal_rank\n",
    "\n",
    "relevancies = [[0, 0, 1], [0, 1, 0], [1, 0, 0]]\n",
    "mean_reciprocal_rank(relevancies)"
   ]
  },
  {
   "cell_type": "markdown",
   "metadata": {},
   "source": [
    "The library current supports the following information retrieval ranking metrics:\n",
    "1. Mean Reciprocal Rank - `mean_reciprocal_rank`\n",
    "2. Relevancy Precision - `r_precision`\n",
    "3. Precision at K - `precision_at_k`\n",
    "4. Average Precision - `average_precision`\n",
    "5. Mean Average Precision - `mean_average_precision`\n",
    "6. Discounted Cumulative Gain at K - `dcg_at_k`\n",
    "7. Normalized Discounted Cumulative Gain at K - `ndcg_at_k`"
   ]
  },
  {
   "cell_type": "markdown",
   "metadata": {},
   "source": [
    "# Contributing\n",
    "PRs and issues welcome! Please make sure to read through the `CONTRIBUTING.md` doc for how to contribute :)."
   ]
  }
 ],
 "metadata": {
  "kernelspec": {
   "display_name": "Python 3",
   "language": "python",
   "name": "python3"
  }
 },
 "nbformat": 4,
 "nbformat_minor": 2
}
